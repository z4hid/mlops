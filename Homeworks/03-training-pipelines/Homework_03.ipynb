{
 "cells": [
  {
   "cell_type": "markdown",
   "metadata": {},
   "source": [
    "Question 1. Select the Tool\n",
    "\n",
    "You can use the same tool you used when completing the module, or choose a different one for your homework.\n",
    "\n",
    "What's the name of the orchestrator you chose?\n"
   ]
  },
  {
   "cell_type": "markdown",
   "metadata": {},
   "source": [
    "Question 2. Version\n",
    "What's the version of the orchestrator?"
   ]
  },
  {
   "cell_type": "markdown",
   "metadata": {},
   "source": [
    "Question 3. Creating a pipeline\n",
    "Let's read the March 2023 Yellow taxi trips data."
   ]
  },
  {
   "cell_type": "code",
   "execution_count": 1,
   "metadata": {},
   "outputs": [
    {
     "name": "stdout",
     "output_type": "stream",
     "text": [
      "Number of records loaded: 3,403,766\n",
      "Answer: 3403766\n"
     ]
    }
   ],
   "source": [
    "import pandas as pd\n",
    "\n",
    "# Read the March 2023 Yellow taxi trips data\n",
    "df = pd.read_parquet('data/yellow_tripdata_2023-03.parquet')\n",
    "\n",
    "# Count the number of records\n",
    "num_records = len(df)\n",
    "\n",
    "# Print the result\n",
    "print(f\"Number of records loaded: {num_records:,}\")\n",
    "print(f\"Answer: {num_records}\")\n"
   ]
  },
  {
   "cell_type": "code",
   "execution_count": 2,
   "metadata": {},
   "outputs": [
    {
     "name": "stdout",
     "output_type": "stream",
     "text": [
      "Size after data preparation: 3,316,216\n",
      "Original size: 3,403,766\n",
      "Records removed: 87,550\n",
      "Answer: 3316216\n"
     ]
    }
   ],
   "source": [
    "# Question 4: Data preparation\n",
    "def read_dataframe(filename):\n",
    "    df = pd.read_parquet(filename)\n",
    "\n",
    "    df['duration'] = df.tpep_dropoff_datetime - df.tpep_pickup_datetime\n",
    "    df.duration = df.duration.dt.total_seconds() / 60\n",
    "\n",
    "    df = df[(df.duration >= 1) & (df.duration <= 60)]\n",
    "\n",
    "    categorical = ['PULocationID', 'DOLocationID']\n",
    "    df[categorical] = df[categorical].astype(str)\n",
    "    \n",
    "    return df\n",
    "\n",
    "# Apply the data preparation to our dataset\n",
    "df_prepared = read_dataframe('data/yellow_tripdata_2023-03.parquet')\n",
    "\n",
    "# Check the size of the result\n",
    "result_size = len(df_prepared)\n",
    "print(f\"Size after data preparation: {result_size:,}\")\n",
    "print(f\"Original size: {len(df):,}\")\n",
    "print(f\"Records removed: {len(df) - result_size:,}\")\n",
    "print(f\"Answer: {result_size}\")\n"
   ]
  },
  {
   "cell_type": "code",
   "execution_count": 3,
   "metadata": {},
   "outputs": [
    {
     "ename": "",
     "evalue": "",
     "output_type": "error",
     "traceback": [
      "\u001b[1;31mThe Kernel crashed while executing code in the current cell or a previous cell. \n",
      "\u001b[1;31mPlease review the code in the cell(s) to identify a possible cause of the failure. \n",
      "\u001b[1;31mClick <a href='https://aka.ms/vscodeJupyterKernelCrash'>here</a> for more info. \n",
      "\u001b[1;31mView Jupyter <a href='command:jupyter.viewOutput'>log</a> for further details."
     ]
    }
   ],
   "source": [
    "# Question 5: Train a model\n",
    "from sklearn.feature_extraction import DictVectorizer\n",
    "from sklearn.linear_model import LinearRegression\n",
    "\n",
    "def train_model_pipeline(df):\n",
    "    # Prepare features - use pickup and dropoff locations separately\n",
    "    categorical = ['PULocationID', 'DOLocationID']\n",
    "    numerical = ['trip_distance']\n",
    "    \n",
    "    # Create feature dictionaries\n",
    "    features = df[categorical + numerical].to_dict(orient='records')\n",
    "    \n",
    "    # Fit dict vectorizer (use sparse=True to save memory)\n",
    "    dv = DictVectorizer(sparse=True)\n",
    "    X = dv.fit_transform(features)\n",
    "    \n",
    "    # Prepare target variable\n",
    "    y = df['duration'].values\n",
    "    \n",
    "    # Train linear regression with default parameters\n",
    "    lr = LinearRegression()\n",
    "    lr.fit(X, y)\n",
    "    \n",
    "    # Print the intercept\n",
    "    print(f\"Model intercept: {lr.intercept_:.2f}\")\n",
    "    print(f\"Answer: {lr.intercept_:.2f}\")\n",
    "    \n",
    "    return dv, lr\n",
    "\n",
    "# Use a sample to avoid memory issues\n",
    "print(f\"Original dataset size: {len(df_prepared):,} records\")\n",
    "sample_size = 100000  # Use 100k records for training\n",
    "df_sample = df_prepared.sample(n=sample_size, random_state=42)\n",
    "print(f\"Training on sample of {len(df_sample):,} records\")\n",
    "\n",
    "# Apply to our prepared data sample\n",
    "dv, model = train_model_pipeline(df_sample)\n"
   ]
  },
  {
   "cell_type": "code",
   "execution_count": null,
   "metadata": {},
   "outputs": [],
   "source": [
    "# Question 6: Register the model with MLFlow\n",
    "import mlflow\n",
    "import mlflow.sklearn\n",
    "import os\n",
    "import json\n",
    "\n",
    "# Set up MLflow\n",
    "mlflow.set_tracking_uri(\"sqlite:///mlflow.db\")\n",
    "mlflow.set_experiment(\"taxi-duration-experiment\")\n",
    "\n",
    "def register_model_with_mlflow(model, dv, df_sample):\n",
    "    with mlflow.start_run() as run:\n",
    "        # Log the model\n",
    "        mlflow.sklearn.log_model(\n",
    "            sk_model=model,\n",
    "            artifact_path=\"model\",\n",
    "            registered_model_name=\"taxi-duration-regressor\"\n",
    "        )\n",
    "        \n",
    "        # Log the vectorizer\n",
    "        mlflow.sklearn.log_model(\n",
    "            sk_model=dv,\n",
    "            artifact_path=\"vectorizer\"\n",
    "        )\n",
    "        \n",
    "        # Log some metrics for completeness\n",
    "        from sklearn.metrics import mean_squared_error\n",
    "        X = dv.transform(df_sample[['PULocationID', 'DOLocationID', 'trip_distance']].to_dict(orient='records'))\n",
    "        y_pred = model.predict(X)\n",
    "        y_true = df_sample['duration'].values\n",
    "        rmse = mean_squared_error(y_true, y_pred, squared=False)\n",
    "        mlflow.log_metric(\"rmse\", rmse)\n",
    "        \n",
    "        print(f\"MLflow run ID: {run.info.run_id}\")\n",
    "        print(f\"Model logged to: {run.info.artifact_uri}\")\n",
    "        \n",
    "        return run.info.run_id, run.info.artifact_uri\n",
    "\n",
    "# Register the model\n",
    "run_id, artifact_uri = register_model_with_mlflow(model, dv, df_sample)\n"
   ]
  },
  {
   "cell_type": "code",
   "execution_count": null,
   "metadata": {},
   "outputs": [],
   "source": [
    "# Find and read the MLModel file to get model size\n",
    "import os\n",
    "import yaml\n",
    "import json\n",
    "from pathlib import Path\n",
    "\n",
    "def find_model_size():\n",
    "    # MLflow stores artifacts in mlruns directory\n",
    "    mlruns_dir = Path(\"mlruns\")\n",
    "    \n",
    "    if mlruns_dir.exists():\n",
    "        # Find the most recent run\n",
    "        experiment_dirs = [d for d in mlruns_dir.iterdir() if d.is_dir() and d.name.isdigit()]\n",
    "        if experiment_dirs:\n",
    "            latest_exp = max(experiment_dirs, key=lambda x: x.stat().st_mtime)\n",
    "            run_dirs = [d for d in latest_exp.iterdir() if d.is_dir() and len(d.name) == 32]\n",
    "            \n",
    "            if run_dirs:\n",
    "                latest_run = max(run_dirs, key=lambda x: x.stat().st_mtime)\n",
    "                \n",
    "                # Look for MLmodel file in the model artifact path\n",
    "                mlmodel_path = latest_run / \"artifacts\" / \"model\" / \"MLmodel\"\n",
    "                \n",
    "                if mlmodel_path.exists():\n",
    "                    with open(mlmodel_path, 'r') as f:\n",
    "                        mlmodel_content = yaml.safe_load(f)\n",
    "                    \n",
    "                    model_size_bytes = mlmodel_content.get('model_size_bytes', 'Not found')\n",
    "                    print(f\"MLmodel file found at: {mlmodel_path}\")\n",
    "                    print(f\"Model size in bytes: {model_size_bytes}\")\n",
    "                    print(f\"Answer: {model_size_bytes}\")\n",
    "                    \n",
    "                    return model_size_bytes\n",
    "                else:\n",
    "                    print(f\"MLmodel file not found at expected path: {mlmodel_path}\")\n",
    "            else:\n",
    "                print(\"No run directories found\")\n",
    "        else:\n",
    "            print(\"No experiment directories found\")\n",
    "    else:\n",
    "        print(\"mlruns directory not found\")\n",
    "    \n",
    "    return None\n",
    "\n",
    "# Find the model size\n",
    "model_size = find_model_size()\n"
   ]
  },
  {
   "cell_type": "code",
   "execution_count": null,
   "metadata": {},
   "outputs": [],
   "source": []
  }
 ],
 "metadata": {
  "kernelspec": {
   "display_name": "deeplearning",
   "language": "python",
   "name": "python3"
  },
  "language_info": {
   "codemirror_mode": {
    "name": "ipython",
    "version": 3
   },
   "file_extension": ".py",
   "mimetype": "text/x-python",
   "name": "python",
   "nbconvert_exporter": "python",
   "pygments_lexer": "ipython3",
   "version": "3.12.9"
  }
 },
 "nbformat": 4,
 "nbformat_minor": 2
}
